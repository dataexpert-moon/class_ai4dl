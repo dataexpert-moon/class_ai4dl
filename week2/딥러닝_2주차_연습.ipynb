{
  "nbformat": 4,
  "nbformat_minor": 0,
  "metadata": {
    "colab": {
      "provenance": [],
      "authorship_tag": "ABX9TyN+/nkgwnSkgvdyTqX7wfLN",
      "include_colab_link": true
    },
    "kernelspec": {
      "name": "python3",
      "display_name": "Python 3"
    },
    "language_info": {
      "name": "python"
    }
  },
  "cells": [
    {
      "cell_type": "markdown",
      "metadata": {
        "id": "view-in-github",
        "colab_type": "text"
      },
      "source": [
        "<a href=\"https://colab.research.google.com/github/dataexpert-moon/class_ai4dl/blob/demo-repo/week2/%EB%94%A5%EB%9F%AC%EB%8B%9D_2%EC%A3%BC%EC%B0%A8_%EC%97%B0%EC%8A%B5.ipynb\" target=\"_parent\"><img src=\"https://colab.research.google.com/assets/colab-badge.svg\" alt=\"Open In Colab\"/></a>"
      ]
    },
    {
      "cell_type": "code",
      "execution_count": 9,
      "metadata": {
        "id": "dv1tO2hzxO7l"
      },
      "outputs": [],
      "source": [
        "from tensorflow.keras.datasets import mnist # 데이터 불러오기\n",
        "(train_images, train_labels), (test_images, test_labels) = mnist.load_data()\n"
      ]
    },
    {
      "cell_type": "code",
      "source": [
        "# 1. We normalized data by dividing 255. What happens if we do not normalize?\n",
        "# 데이터 값들의 범위가 다르면 training 시킬 수 없다.\n",
        "\n",
        "# 2. Try modifying other options.\n"
      ],
      "metadata": {
        "id": "I_givRhG2mhm"
      },
      "execution_count": null,
      "outputs": []
    },
    {
      "cell_type": "code",
      "source": [
        "#1. How many samples in Mnist test dataset? \n",
        "test_images.shape # 10000개"
      ],
      "metadata": {
        "colab": {
          "base_uri": "https://localhost:8080/"
        },
        "id": "xMx0tr1SxPtG",
        "outputId": "d75b1c46-64e9-4e1e-fdec-6e01b7f4b41c"
      },
      "execution_count": 10,
      "outputs": [
        {
          "output_type": "execute_result",
          "data": {
            "text/plain": [
              "(10000, 28, 28)"
            ]
          },
          "metadata": {},
          "execution_count": 10
        }
      ]
    },
    {
      "cell_type": "code",
      "source": [
        "#2.What is dimension for each data? (test_images[0])\n",
        "# 2차원 (28 x 28)"
      ],
      "metadata": {
        "id": "HihiZLPzxVMj"
      },
      "execution_count": 11,
      "outputs": []
    },
    {
      "cell_type": "code",
      "source": [
        "#3. Create a 3D tensor object. (with any values you like) \n",
        "import numpy as np\n",
        "\n",
        "x = np.array([[[5, 78, 2, 34, 0],\n",
        "               [6, 79, 3, 35, 1],\n",
        "               [7, 80, 4, 36, 2]],\n",
        "              [[5, 78, 2, 34, 0],\n",
        "               [6, 79, 3, 35, 1],\n",
        "               [7, 80, 4, 36, 2]],\n",
        "              [[5, 78, 2, 34, 0],\n",
        "               [6, 79, 3, 35, 1],\n",
        "               [7, 80, 4, 36, 2]]])\n",
        "x.ndim"
      ],
      "metadata": {
        "colab": {
          "base_uri": "https://localhost:8080/"
        },
        "id": "A9I5tn5Nxcf8",
        "outputId": "36350b92-ae04-42d7-d41b-309dc55a9d6b"
      },
      "execution_count": 12,
      "outputs": [
        {
          "output_type": "execute_result",
          "data": {
            "text/plain": [
              "3"
            ]
          },
          "metadata": {},
          "execution_count": 12
        }
      ]
    },
    {
      "cell_type": "code",
      "source": [
        "#4. Try to visualize the 1st digit from mnist test dataset (1 st digit data = test_images[0] )\n",
        "#5. - Try to manipulate and visualize the 1st digit data\n",
        "\n",
        "import matplotlib.pyplot as plt\n",
        "digit = test_images[0]\n",
        "print(test_images[0].shape)\n",
        "plt.imshow(digit, cmap=plt.cm.binary)\n",
        "plt.show()"
      ],
      "metadata": {
        "colab": {
          "base_uri": "https://localhost:8080/",
          "height": 283
        },
        "id": "1AaiauhXxh-q",
        "outputId": "ec185066-c361-4dba-88b7-67d595ee35da"
      },
      "execution_count": 15,
      "outputs": [
        {
          "output_type": "stream",
          "name": "stdout",
          "text": [
            "(28, 28)\n"
          ]
        },
        {
          "output_type": "display_data",
          "data": {
            "text/plain": [
              "<Figure size 432x288 with 1 Axes>"
            ],
            "image/png": "[encoded data removed]"
          },
          "metadata": {
            "needs_background": "light"
          }
        }
      ]
    },
    {
      "cell_type": "code",
      "source": [
        "# 1. Try to use naïve version of relu and add functions\n",
        "import numpy as np\n",
        "\n",
        "def naive_relu(x):\n",
        "    assert len(x.shape) == 2\n",
        "    x = x.copy()\n",
        "    for i in range(x.shape[0]):\n",
        "        for j in range(x.shape[1]):\n",
        "            x[i, j] = max(x[i, j], 0)\n",
        "    return x\n",
        "\n",
        "def naive_add(x, y):\n",
        "    assert len(x.shape) == 2\n",
        "    assert x.shape == y.shape\n",
        "    x = x.copy()\n",
        "    for i in range(x.shape[0]):\n",
        "        for j in range(x.shape[1]):\n",
        "            x[i, j] += y[i, j]\n",
        "    return x\n",
        "\n",
        "import time\n",
        "\n",
        "x = np.random.random((20, 100))\n",
        "y = np.random.random((20, 100))\n",
        "\n",
        "t0 = time.time()\n",
        "for _ in range(1000):\n",
        "    z = x + y\n",
        "    z = np.maximum(z, 0.)\n",
        "print(\"Took: {0:.2f} s\".format(time.time() - t0))\n",
        "\n",
        "\n",
        "t0 = time.time()\n",
        "for _ in range(1000):\n",
        "    z = naive_add(x, y)\n",
        "    z = naive_relu(z)\n",
        "print(\"Took: {0:.2f} s\".format(time.time() - t0))\n"
      ],
      "metadata": {
        "colab": {
          "base_uri": "https://localhost:8080/"
        },
        "id": "BDwmT8yBxsan",
        "outputId": "84679574-fc1e-4368-a1d5-4bb489409d79"
      },
      "execution_count": 17,
      "outputs": [
        {
          "output_type": "stream",
          "name": "stdout",
          "text": [
            "Took: 0.01 s\n",
            "Took: 2.19 s\n"
          ]
        }
      ]
    },
    {
      "cell_type": "code",
      "source": [
        "# 2. Why we use x.copy()?\n",
        "\n",
        "# copy를 하지 않으면 x값이 바뀌지 않는다.\n",
        "# 파이썬은 R과 다르게 x = y이면, y가 바뀌면 x도 같이 바뀐다.\n",
        "# 이를 막기 위해 x.copy()를 사용해야한다.\n",
        "\n",
        "# 3. why the naïve version of the code slower?\n",
        "# for 구문으로 인해 시간복잡도 O(n^3)가 되므로 느려진다. "
      ],
      "metadata": {
        "id": "7U_7iRpbzVez"
      },
      "execution_count": null,
      "outputs": []
    }
  ]
}