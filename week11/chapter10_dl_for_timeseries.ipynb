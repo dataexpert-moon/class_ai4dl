{
  "cells": [
    {
      "cell_type": "markdown",
      "metadata": {
        "id": "view-in-github",
        "colab_type": "text"
      },
      "source": [
        "<a href=\"https://colab.research.google.com/github/dataexpert-moon/class_ai4dl/blob/demo-repo/week11/chapter10_dl_for_timeseries.ipynb\" target=\"_parent\"><img src=\"https://colab.research.google.com/assets/colab-badge.svg\" alt=\"Open In Colab\"/></a>"
      ]
    },
    {
      "cell_type": "markdown",
      "metadata": {
        "id": "2wVDxyvNAeZQ"
      },
      "source": [
        "This is a companion notebook for the book [Deep Learning with Python, Second Edition](https://www.manning.com/books/deep-learning-with-python-second-edition?a_aid=keras&a_bid=76564dff). For readability, it only contains runnable code blocks and section titles, and omits everything else in the book: text paragraphs, figures, and pseudocode.\n",
        "\n",
        "**If you want to be able to follow what's going on, I recommend reading the notebook side by side with your copy of the book.**\n",
        "\n",
        "This notebook was generated for TensorFlow 2.6."
      ]
    },
    {
      "cell_type": "markdown",
      "metadata": {
        "id": "FknTerT2AeZS"
      },
      "source": [
        "# Deep learning for timeseries"
      ]
    },
    {
      "cell_type": "markdown",
      "metadata": {
        "id": "-QasYXQUAeZS"
      },
      "source": [
        "## Different kinds of timeseries tasks"
      ]
    },
    {
      "cell_type": "markdown",
      "metadata": {
        "id": "T73dmtneAeZS"
      },
      "source": [
        "## A temperature-forecasting example"
      ]
    },
    {
      "cell_type": "code",
      "execution_count": 1,
      "metadata": {
        "id": "wLfVTwkQAeZT",
        "colab": {
          "base_uri": "https://localhost:8080/"
        },
        "outputId": "d776bf1e-a74f-4bf2-e9e3-36fda5fcbc6f"
      },
      "outputs": [
        {
          "output_type": "stream",
          "name": "stdout",
          "text": [
            "--2023-05-15 08:14:29--  https://s3.amazonaws.com/keras-datasets/jena_climate_2009_2016.csv.zip\n",
            "Resolving s3.amazonaws.com (s3.amazonaws.com)... 52.217.40.142, 52.217.128.144, 52.217.71.118, ...\n",
            "Connecting to s3.amazonaws.com (s3.amazonaws.com)|52.217.40.142|:443... connected.\n",
            "HTTP request sent, awaiting response... 200 OK\n",
            "Length: 13565642 (13M) [application/zip]\n",
            "Saving to: ‘jena_climate_2009_2016.csv.zip’\n",
            "\n",
            "jena_climate_2009_2 100%[===================>]  12.94M  43.8MB/s    in 0.3s    \n",
            "\n",
            "2023-05-15 08:14:30 (43.8 MB/s) - ‘jena_climate_2009_2016.csv.zip’ saved [13565642/13565642]\n",
            "\n",
            "Archive:  jena_climate_2009_2016.csv.zip\n",
            "  inflating: jena_climate_2009_2016.csv  \n",
            "  inflating: __MACOSX/._jena_climate_2009_2016.csv  \n"
          ]
        }
      ],
      "source": [
        "!wget https://s3.amazonaws.com/keras-datasets/jena_climate_2009_2016.csv.zip\n",
        "!unzip jena_climate_2009_2016.csv.zip"
      ]
    },
    {
      "cell_type": "markdown",
      "metadata": {
        "id": "6nOpJF8VAeZT"
      },
      "source": [
        "**Inspecting the data of the Jena weather dataset**"
      ]
    },
    {
      "cell_type": "code",
      "execution_count": 2,
      "metadata": {
        "id": "FNSHXJjvAeZU",
        "colab": {
          "base_uri": "https://localhost:8080/"
        },
        "outputId": "21c68ace-1b05-4563-fe49-742f22ebc1ee"
      },
      "outputs": [
        {
          "output_type": "stream",
          "name": "stdout",
          "text": [
            "['\"Date Time\"', '\"p (mbar)\"', '\"T (degC)\"', '\"Tpot (K)\"', '\"Tdew (degC)\"', '\"rh (%)\"', '\"VPmax (mbar)\"', '\"VPact (mbar)\"', '\"VPdef (mbar)\"', '\"sh (g/kg)\"', '\"H2OC (mmol/mol)\"', '\"rho (g/m**3)\"', '\"wv (m/s)\"', '\"max. wv (m/s)\"', '\"wd (deg)\"']\n",
            "420451\n"
          ]
        }
      ],
      "source": [
        "import os\n",
        "fname = os.path.join(\"jena_climate_2009_2016.csv\")\n",
        "\n",
        "with open(fname) as f:\n",
        "    data = f.read()\n",
        "\n",
        "lines = data.split(\"\\n\")\n",
        "header = lines[0].split(\",\")\n",
        "lines = lines[1:]\n",
        "print(header)\n",
        "print(len(lines))"
      ]
    },
    {
      "cell_type": "markdown",
      "metadata": {
        "id": "zvb_qROYAeZU"
      },
      "source": [
        "**Parsing the data**"
      ]
    },
    {
      "cell_type": "code",
      "execution_count": 3,
      "metadata": {
        "id": "gWkDPLUoAeZU"
      },
      "outputs": [],
      "source": [
        "import numpy as np\n",
        "temperature = np.zeros((len(lines),))\n",
        "raw_data = np.zeros((len(lines), len(header) - 1))\n",
        "for i, line in enumerate(lines):\n",
        "    values = [float(x) for x in line.split(\",\")[1:]]\n",
        "    temperature[i] = values[1]\n",
        "    raw_data[i, :] = values[:]"
      ]
    },
    {
      "cell_type": "markdown",
      "metadata": {
        "id": "xjDaGKT7AeZU"
      },
      "source": [
        "**Plotting the temperature timeseries**"
      ]
    },
    {
      "cell_type": "code",
      "execution_count": 4,
      "metadata": {
        "id": "BTbuUpfzAeZV",
        "colab": {
          "base_uri": "https://localhost:8080/",
          "height": 452
        },
        "outputId": "4dac5dfb-eb72-4cea-a78c-a79ec7da7f93"
      },
      "outputs": [
        {
          "output_type": "execute_result",
          "data": {
            "text/plain": [
              "[<matplotlib.lines.Line2D at 0x7f3e60e2cd90>]"
            ]
          },
          "metadata": {},
          "execution_count": 4
        },
        {
          "output_type": "display_data",
          "data": {
            "text/plain": [
              "<Figure size 640x480 with 1 Axes>"
            ],
            "image/png": "[encoded data removed]"
          },
          "metadata": {}
        }
      ],
      "source": [
        "from matplotlib import pyplot as plt\n",
        "plt.plot(range(len(temperature)), temperature)"
      ]
    },
    {
      "cell_type": "markdown",
      "metadata": {
        "id": "v9BbOrj8AeZV"
      },
      "source": [
        "**Plotting the first 10 days of the temperature timeseries**"
      ]
    },
    {
      "cell_type": "code",
      "execution_count": 5,
      "metadata": {
        "id": "o53S7ILKAeZV",
        "colab": {
          "base_uri": "https://localhost:8080/",
          "height": 448
        },
        "outputId": "70afe8e4-04e4-46cd-ff17-c4683d10320a"
      },
      "outputs": [
        {
          "output_type": "execute_result",
          "data": {
            "text/plain": [
              "[<matplotlib.lines.Line2D at 0x7f3e5cb90a90>]"
            ]
          },
          "metadata": {},
          "execution_count": 5
        },
        {
          "output_type": "display_data",
          "data": {
            "text/plain": [
              "<Figure size 640x480 with 1 Axes>"
            ],
            "image/png": "[encoded data removed]"
          },
          "metadata": {}
        }
      ],
      "source": [
        "plt.plot(range(1440), temperature[:1440])"
      ]
    },
    {
      "cell_type": "markdown",
      "metadata": {
        "id": "2Tm6DsWLAeZV"
      },
      "source": [
        "**Computing the number of samples we'll use for each data split**"
      ]
    },
    {
      "cell_type": "code",
      "execution_count": 6,
      "metadata": {
        "id": "_O_kiO1mAeZV",
        "colab": {
          "base_uri": "https://localhost:8080/"
        },
        "outputId": "e3bd0192-1ede-46bd-e0ba-71b67a6e33e1"
      },
      "outputs": [
        {
          "output_type": "stream",
          "name": "stdout",
          "text": [
            "num_train_samples: 210225\n",
            "num_val_samples: 105112\n",
            "num_test_samples: 105114\n"
          ]
        }
      ],
      "source": [
        "num_train_samples = int(0.5 * len(raw_data))\n",
        "num_val_samples = int(0.25 * len(raw_data))\n",
        "num_test_samples = len(raw_data) - num_train_samples - num_val_samples\n",
        "print(\"num_train_samples:\", num_train_samples)\n",
        "print(\"num_val_samples:\", num_val_samples)\n",
        "print(\"num_test_samples:\", num_test_samples)"
      ]
    },
    {
      "cell_type": "markdown",
      "metadata": {
        "id": "T2FdLel6AeZV"
      },
      "source": [
        "### Preparing the data"
      ]
    },
    {
      "cell_type": "markdown",
      "metadata": {
        "id": "BcPbIIJwAeZV"
      },
      "source": [
        "**Normalizing the data**"
      ]
    },
    {
      "cell_type": "code",
      "execution_count": 7,
      "metadata": {
        "id": "6450kTr-AeZW"
      },
      "outputs": [],
      "source": [
        "mean = raw_data[:num_train_samples].mean(axis=0)\n",
        "raw_data -= mean\n",
        "std = raw_data[:num_train_samples].std(axis=0)\n",
        "raw_data /= std"
      ]
    },
    {
      "cell_type": "code",
      "execution_count": 8,
      "metadata": {
        "id": "17h8C-CVAeZW",
        "colab": {
          "base_uri": "https://localhost:8080/"
        },
        "outputId": "bdca6469-afd0-4828-ce44-cf4863a4f570"
      },
      "outputs": [
        {
          "output_type": "stream",
          "name": "stdout",
          "text": [
            "[0, 1, 2] 3\n",
            "[1, 2, 3] 4\n",
            "[2, 3, 4] 5\n",
            "[3, 4, 5] 6\n",
            "[4, 5, 6] 7\n"
          ]
        }
      ],
      "source": [
        "import numpy as np\n",
        "from tensorflow import keras\n",
        "int_sequence = np.arange(10)\n",
        "dummy_dataset = keras.utils.timeseries_dataset_from_array(\n",
        "    data=int_sequence[:-3],\n",
        "    targets=int_sequence[3:],\n",
        "    sequence_length=3,\n",
        "    batch_size=2,\n",
        ")\n",
        "\n",
        "for inputs, targets in dummy_dataset:\n",
        "    for i in range(inputs.shape[0]):\n",
        "        print([int(x) for x in inputs[i]], int(targets[i]))"
      ]
    },
    {
      "cell_type": "markdown",
      "metadata": {
        "id": "glMUoaa2AeZW"
      },
      "source": [
        "**Instantiating datasets for training, validation, and testing**"
      ]
    },
    {
      "cell_type": "code",
      "execution_count": 9,
      "metadata": {
        "id": "vivDwwyoAeZW"
      },
      "outputs": [],
      "source": [
        "sampling_rate = 6\n",
        "sequence_length = 120\n",
        "delay = sampling_rate * (sequence_length + 24 - 1)\n",
        "batch_size = 256\n",
        "\n",
        "train_dataset = keras.utils.timeseries_dataset_from_array(\n",
        "    raw_data[:-delay],\n",
        "    targets=temperature[delay:],\n",
        "    sampling_rate=sampling_rate,\n",
        "    sequence_length=sequence_length,\n",
        "    shuffle=True,\n",
        "    batch_size=batch_size,\n",
        "    start_index=0,\n",
        "    end_index=num_train_samples)\n",
        "\n",
        "val_dataset = keras.utils.timeseries_dataset_from_array(\n",
        "    raw_data[:-delay],\n",
        "    targets=temperature[delay:],\n",
        "    sampling_rate=sampling_rate,\n",
        "    sequence_length=sequence_length,\n",
        "    shuffle=True,\n",
        "    batch_size=batch_size,\n",
        "    start_index=num_train_samples,\n",
        "    end_index=num_train_samples + num_val_samples)\n",
        "\n",
        "test_dataset = keras.utils.timeseries_dataset_from_array(\n",
        "    raw_data[:-delay],\n",
        "    targets=temperature[delay:],\n",
        "    sampling_rate=sampling_rate,\n",
        "    sequence_length=sequence_length,\n",
        "    shuffle=True,\n",
        "    batch_size=batch_size,\n",
        "    start_index=num_train_samples + num_val_samples)"
      ]
    },
    {
      "cell_type": "markdown",
      "metadata": {
        "id": "gVqNCLUNAeZW"
      },
      "source": [
        "**Inspecting the output of one of our datasets**"
      ]
    },
    {
      "cell_type": "code",
      "execution_count": 10,
      "metadata": {
        "id": "AFh5OjghAeZX",
        "colab": {
          "base_uri": "https://localhost:8080/"
        },
        "outputId": "2b031704-1c71-4026-8908-a54b110071b8"
      },
      "outputs": [
        {
          "output_type": "stream",
          "name": "stdout",
          "text": [
            "samples shape: (256, 120, 14)\n",
            "targets shape: (256,)\n"
          ]
        }
      ],
      "source": [
        "for samples, targets in train_dataset:\n",
        "    print(\"samples shape:\", samples.shape)\n",
        "    print(\"targets shape:\", targets.shape)\n",
        "    break"
      ]
    },
    {
      "cell_type": "markdown",
      "metadata": {
        "id": "Tw2oNQQuAeZX"
      },
      "source": [
        "### A common-sense, non-machine-learning baseline"
      ]
    },
    {
      "cell_type": "markdown",
      "metadata": {
        "id": "Ku_w5YVNAeZX"
      },
      "source": [
        "**Computing the common-sense baseline MAE**"
      ]
    },
    {
      "cell_type": "code",
      "execution_count": 11,
      "metadata": {
        "id": "Rp0GF6lXAeZX",
        "colab": {
          "base_uri": "https://localhost:8080/"
        },
        "outputId": "c5fc1b81-43e7-4111-c152-9fd3f11bbefb"
      },
      "outputs": [
        {
          "output_type": "stream",
          "name": "stdout",
          "text": [
            "Validation MAE: 2.44\n",
            "Test MAE: 2.62\n"
          ]
        }
      ],
      "source": [
        "def evaluate_naive_method(dataset):\n",
        "    total_abs_err = 0.\n",
        "    samples_seen = 0\n",
        "    for samples, targets in dataset:\n",
        "        preds = samples[:, -1, 1] * std[1] + mean[1]\n",
        "        total_abs_err += np.sum(np.abs(preds - targets))\n",
        "        samples_seen += samples.shape[0]\n",
        "    return total_abs_err / samples_seen\n",
        "\n",
        "print(f\"Validation MAE: {evaluate_naive_method(val_dataset):.2f}\")\n",
        "print(f\"Test MAE: {evaluate_naive_method(test_dataset):.2f}\")"
      ]
    },
    {
      "cell_type": "markdown",
      "metadata": {
        "id": "WQ2sBQR5AeZX"
      },
      "source": [
        "### Let's try a basic machine-learning model"
      ]
    },
    {
      "cell_type": "markdown",
      "metadata": {
        "id": "lrfH-XZNAeZX"
      },
      "source": [
        "**Training and evaluating a densely connected model**"
      ]
    },
    {
      "cell_type": "code",
      "execution_count": 12,
      "metadata": {
        "id": "Y-YA4TRFAeZX",
        "colab": {
          "base_uri": "https://localhost:8080/"
        },
        "outputId": "34be996b-007f-4497-d686-edb0de1b6abc"
      },
      "outputs": [
        {
          "output_type": "stream",
          "name": "stdout",
          "text": [
            "Epoch 1/10\n",
            "819/819 [==============================] - 56s 63ms/step - loss: 12.9103 - mae: 2.7712 - val_loss: 10.3333 - val_mae: 2.5386\n",
            "Epoch 2/10\n",
            "819/819 [==============================] - 43s 53ms/step - loss: 9.0668 - mae: 2.3744 - val_loss: 12.3465 - val_mae: 2.7726\n",
            "Epoch 3/10\n",
            "819/819 [==============================] - 41s 50ms/step - loss: 8.3597 - mae: 2.2826 - val_loss: 11.7896 - val_mae: 2.7201\n",
            "Epoch 4/10\n",
            "819/819 [==============================] - 42s 51ms/step - loss: 7.9105 - mae: 2.2255 - val_loss: 11.3818 - val_mae: 2.6619\n",
            "Epoch 5/10\n",
            "819/819 [==============================] - 46s 57ms/step - loss: 7.5872 - mae: 2.1790 - val_loss: 10.8740 - val_mae: 2.6115\n",
            "Epoch 6/10\n",
            "819/819 [==============================] - 50s 61ms/step - loss: 7.3616 - mae: 2.1486 - val_loss: 11.8633 - val_mae: 2.7405\n",
            "Epoch 7/10\n",
            "819/819 [==============================] - 49s 60ms/step - loss: 7.1850 - mae: 2.1218 - val_loss: 11.5959 - val_mae: 2.7034\n",
            "Epoch 8/10\n",
            "819/819 [==============================] - 49s 60ms/step - loss: 7.0287 - mae: 2.0990 - val_loss: 12.4987 - val_mae: 2.8100\n",
            "Epoch 9/10\n",
            "819/819 [==============================] - 50s 60ms/step - loss: 6.9162 - mae: 2.0819 - val_loss: 11.2025 - val_mae: 2.6490\n",
            "Epoch 10/10\n",
            "819/819 [==============================] - 42s 51ms/step - loss: 6.8022 - mae: 2.0643 - val_loss: 11.7043 - val_mae: 2.7143\n",
            "405/405 [==============================] - 14s 34ms/step - loss: 11.1304 - mae: 2.6326\n",
            "Test MAE: 2.63\n"
          ]
        }
      ],
      "source": [
        "from tensorflow import keras\n",
        "from tensorflow.keras import layers\n",
        "\n",
        "inputs = keras.Input(shape=(sequence_length, raw_data.shape[-1]))\n",
        "x = layers.Flatten()(inputs)\n",
        "x = layers.Dense(16, activation=\"relu\")(x)\n",
        "outputs = layers.Dense(1)(x)\n",
        "model = keras.Model(inputs, outputs)\n",
        "\n",
        "callbacks = [\n",
        "    keras.callbacks.ModelCheckpoint(\"jena_dense.keras\",\n",
        "                                    save_best_only=True)\n",
        "]\n",
        "model.compile(optimizer=\"rmsprop\", loss=\"mse\", metrics=[\"mae\"])\n",
        "history = model.fit(train_dataset,\n",
        "                    epochs=10,\n",
        "                    validation_data=val_dataset,\n",
        "                    callbacks=callbacks)\n",
        "\n",
        "model = keras.models.load_model(\"jena_dense.keras\")\n",
        "print(f\"Test MAE: {model.evaluate(test_dataset)[1]:.2f}\")"
      ]
    },
    {
      "cell_type": "markdown",
      "metadata": {
        "id": "cHk3GtcBAeZX"
      },
      "source": [
        "**Plotting results**"
      ]
    },
    {
      "cell_type": "code",
      "execution_count": 13,
      "metadata": {
        "id": "B_YYKsr-AeZY",
        "colab": {
          "base_uri": "https://localhost:8080/",
          "height": 452
        },
        "outputId": "dfde73d5-d559-413f-d3d4-dcadd3eb43d2"
      },
      "outputs": [
        {
          "output_type": "display_data",
          "data": {
            "text/plain": [
              "<Figure size 640x480 with 1 Axes>"
            ],
            "image/png": "[encoded data removed]"
          },
          "metadata": {}
        }
      ],
      "source": [
        "import matplotlib.pyplot as plt\n",
        "loss = history.history[\"mae\"]\n",
        "val_loss = history.history[\"val_mae\"]\n",
        "epochs = range(1, len(loss) + 1)\n",
        "plt.figure()\n",
        "plt.plot(epochs, loss, \"bo\", label=\"Training MAE\")\n",
        "plt.plot(epochs, val_loss, \"b\", label=\"Validation MAE\")\n",
        "plt.title(\"Training and validation MAE\")\n",
        "plt.legend()\n",
        "plt.show()"
      ]
    },
    {
      "cell_type": "markdown",
      "metadata": {
        "id": "Po9eCyF2AeZY"
      },
      "source": [
        "### Let's try a 1D convolutional model"
      ]
    },
    {
      "cell_type": "code",
      "execution_count": 14,
      "metadata": {
        "id": "2BswQGhKAeZY",
        "colab": {
          "base_uri": "https://localhost:8080/"
        },
        "outputId": "9371bc7d-b702-4dd1-d4ca-41ea8194f564"
      },
      "outputs": [
        {
          "output_type": "stream",
          "name": "stdout",
          "text": [
            "Epoch 1/10\n",
            "819/819 [==============================] - 49s 53ms/step - loss: 23.4847 - mae: 3.7797 - val_loss: 15.9239 - val_mae: 3.1508\n",
            "Epoch 2/10\n",
            "819/819 [==============================] - 50s 60ms/step - loss: 15.7193 - mae: 3.1500 - val_loss: 15.8988 - val_mae: 3.1354\n",
            "Epoch 3/10\n",
            "819/819 [==============================] - 43s 52ms/step - loss: 14.3012 - mae: 3.0006 - val_loss: 14.2299 - val_mae: 2.9802\n",
            "Epoch 4/10\n",
            "819/819 [==============================] - 44s 53ms/step - loss: 13.4662 - mae: 2.9046 - val_loss: 15.4235 - val_mae: 3.1287\n",
            "Epoch 5/10\n",
            "819/819 [==============================] - 46s 56ms/step - loss: 12.8054 - mae: 2.8330 - val_loss: 15.5227 - val_mae: 3.0986\n",
            "Epoch 6/10\n",
            "819/819 [==============================] - 46s 56ms/step - loss: 12.2420 - mae: 2.7706 - val_loss: 15.0615 - val_mae: 3.0828\n",
            "Epoch 7/10\n",
            "819/819 [==============================] - 52s 64ms/step - loss: 11.7615 - mae: 2.7117 - val_loss: 16.0409 - val_mae: 3.1649\n",
            "Epoch 8/10\n",
            "819/819 [==============================] - 42s 51ms/step - loss: 11.3501 - mae: 2.6629 - val_loss: 14.5342 - val_mae: 3.0107\n",
            "Epoch 9/10\n",
            "819/819 [==============================] - 41s 50ms/step - loss: 11.0200 - mae: 2.6224 - val_loss: 14.2702 - val_mae: 3.0045\n",
            "Epoch 10/10\n",
            "819/819 [==============================] - 42s 50ms/step - loss: 10.6607 - mae: 2.5813 - val_loss: 15.6845 - val_mae: 3.1265\n",
            "405/405 [==============================] - 14s 35ms/step - loss: 15.9503 - mae: 3.1706\n",
            "Test MAE: 3.17\n"
          ]
        }
      ],
      "source": [
        "inputs = keras.Input(shape=(sequence_length, raw_data.shape[-1]))\n",
        "x = layers.Conv1D(8, 24, activation=\"relu\")(inputs)\n",
        "x = layers.MaxPooling1D(2)(x)\n",
        "x = layers.Conv1D(8, 12, activation=\"relu\")(x)\n",
        "x = layers.MaxPooling1D(2)(x)\n",
        "x = layers.Conv1D(8, 6, activation=\"relu\")(x)\n",
        "x = layers.GlobalAveragePooling1D()(x)\n",
        "outputs = layers.Dense(1)(x)\n",
        "model = keras.Model(inputs, outputs)\n",
        "\n",
        "callbacks = [\n",
        "    keras.callbacks.ModelCheckpoint(\"jena_conv.keras\",\n",
        "                                    save_best_only=True)\n",
        "]\n",
        "model.compile(optimizer=\"rmsprop\", loss=\"mse\", metrics=[\"mae\"])\n",
        "history = model.fit(train_dataset,\n",
        "                    epochs=10,\n",
        "                    validation_data=val_dataset,\n",
        "                    callbacks=callbacks)\n",
        "\n",
        "model = keras.models.load_model(\"jena_conv.keras\")\n",
        "print(f\"Test MAE: {model.evaluate(test_dataset)[1]:.2f}\")"
      ]
    },
    {
      "cell_type": "markdown",
      "metadata": {
        "id": "65odxSaZAeZY"
      },
      "source": [
        "### A first recurrent baseline"
      ]
    },
    {
      "cell_type": "markdown",
      "metadata": {
        "id": "88X3iAj6AeZY"
      },
      "source": [
        "**A simple LSTM-based model**"
      ]
    },
    {
      "cell_type": "code",
      "execution_count": 15,
      "metadata": {
        "id": "G3gXK_8FAeZY",
        "colab": {
          "base_uri": "https://localhost:8080/"
        },
        "outputId": "11ef26e9-6589-4b47-d650-62b72a752448"
      },
      "outputs": [
        {
          "output_type": "stream",
          "name": "stdout",
          "text": [
            "Epoch 1/10\n",
            "819/819 [==============================] - 51s 57ms/step - loss: 41.5320 - mae: 4.6950 - val_loss: 13.0225 - val_mae: 2.7471\n",
            "Epoch 2/10\n",
            "819/819 [==============================] - 54s 66ms/step - loss: 11.0058 - mae: 2.5779 - val_loss: 9.6888 - val_mae: 2.4333\n",
            "Epoch 3/10\n",
            "819/819 [==============================] - 54s 65ms/step - loss: 9.8749 - mae: 2.4504 - val_loss: 9.7304 - val_mae: 2.4351\n",
            "Epoch 4/10\n",
            "819/819 [==============================] - 53s 65ms/step - loss: 9.4408 - mae: 2.3979 - val_loss: 9.7023 - val_mae: 2.4253\n",
            "Epoch 5/10\n",
            "819/819 [==============================] - 44s 53ms/step - loss: 9.1520 - mae: 2.3622 - val_loss: 9.6852 - val_mae: 2.4143\n",
            "Epoch 6/10\n",
            "819/819 [==============================] - 45s 54ms/step - loss: 8.9070 - mae: 2.3294 - val_loss: 9.9991 - val_mae: 2.4468\n",
            "Epoch 7/10\n",
            "819/819 [==============================] - 45s 54ms/step - loss: 8.7384 - mae: 2.3041 - val_loss: 9.9839 - val_mae: 2.4424\n",
            "Epoch 8/10\n",
            "819/819 [==============================] - 52s 63ms/step - loss: 8.5615 - mae: 2.2775 - val_loss: 9.9935 - val_mae: 2.4414\n",
            "Epoch 9/10\n",
            "819/819 [==============================] - 46s 56ms/step - loss: 8.4352 - mae: 2.2598 - val_loss: 9.8885 - val_mae: 2.4242\n",
            "Epoch 10/10\n",
            "819/819 [==============================] - 45s 55ms/step - loss: 8.3346 - mae: 2.2448 - val_loss: 9.9883 - val_mae: 2.4317\n",
            "405/405 [==============================] - 16s 38ms/step - loss: 11.0644 - mae: 2.6196\n",
            "Test MAE: 2.62\n"
          ]
        }
      ],
      "source": [
        "inputs = keras.Input(shape=(sequence_length, raw_data.shape[-1]))\n",
        "x = layers.LSTM(16)(inputs)\n",
        "outputs = layers.Dense(1)(x)\n",
        "model = keras.Model(inputs, outputs)\n",
        "\n",
        "callbacks = [\n",
        "    keras.callbacks.ModelCheckpoint(\"jena_lstm.keras\",\n",
        "                                    save_best_only=True)\n",
        "]\n",
        "model.compile(optimizer=\"rmsprop\", loss=\"mse\", metrics=[\"mae\"])\n",
        "history = model.fit(train_dataset,\n",
        "                    epochs=10,\n",
        "                    validation_data=val_dataset,\n",
        "                    callbacks=callbacks)\n",
        "\n",
        "model = keras.models.load_model(\"jena_lstm.keras\")\n",
        "print(f\"Test MAE: {model.evaluate(test_dataset)[1]:.2f}\")"
      ]
    },
    {
      "cell_type": "markdown",
      "metadata": {
        "id": "jS_fFkInAeZY"
      },
      "source": [
        "## Understanding recurrent neural networks"
      ]
    },
    {
      "cell_type": "markdown",
      "metadata": {
        "id": "s1bc5rQfAeZY"
      },
      "source": [
        "**NumPy implementation of a simple RNN**"
      ]
    },
    {
      "cell_type": "code",
      "execution_count": 16,
      "metadata": {
        "id": "GzUQDOrWAeZY"
      },
      "outputs": [],
      "source": [
        "import numpy as np\n",
        "timesteps = 100\n",
        "input_features = 32\n",
        "output_features = 64\n",
        "inputs = np.random.random((timesteps, input_features))\n",
        "state_t = np.zeros((output_features,))\n",
        "W = np.random.random((output_features, input_features))\n",
        "U = np.random.random((output_features, output_features))\n",
        "b = np.random.random((output_features,))\n",
        "successive_outputs = []\n",
        "for input_t in inputs:\n",
        "    output_t = np.tanh(np.dot(W, input_t) + np.dot(U, state_t) + b)\n",
        "    successive_outputs.append(output_t)\n",
        "    state_t = output_t\n",
        "final_output_sequence = np.stack(successive_outputs, axis=0)"
      ]
    },
    {
      "cell_type": "markdown",
      "metadata": {
        "id": "eqIJbTPjAeZf"
      },
      "source": [
        "### A recurrent layer in Keras"
      ]
    },
    {
      "cell_type": "markdown",
      "metadata": {
        "id": "3PkhxX_lAeZf"
      },
      "source": [
        "**An RNN layer that can process sequences of any length**"
      ]
    },
    {
      "cell_type": "code",
      "execution_count": 17,
      "metadata": {
        "id": "nQcGFSIqAeZf"
      },
      "outputs": [],
      "source": [
        "num_features = 14\n",
        "inputs = keras.Input(shape=(None, num_features))\n",
        "outputs = layers.SimpleRNN(16)(inputs)"
      ]
    },
    {
      "cell_type": "markdown",
      "metadata": {
        "id": "jW90tWxaAeZf"
      },
      "source": [
        "**An RNN layer that returns only its last output step**"
      ]
    },
    {
      "cell_type": "code",
      "execution_count": 18,
      "metadata": {
        "id": "ByrUQcNDAeZf",
        "colab": {
          "base_uri": "https://localhost:8080/"
        },
        "outputId": "75aa7620-61a1-4d7d-b23c-8008d7af7361"
      },
      "outputs": [
        {
          "output_type": "stream",
          "name": "stdout",
          "text": [
            "(None, 16)\n"
          ]
        }
      ],
      "source": [
        "num_features = 14\n",
        "steps = 120\n",
        "inputs = keras.Input(shape=(steps, num_features))\n",
        "outputs = layers.SimpleRNN(16, return_sequences=False)(inputs)\n",
        "print(outputs.shape)"
      ]
    },
    {
      "cell_type": "markdown",
      "metadata": {
        "id": "N0qlB0eOAeZf"
      },
      "source": [
        "**An RNN layer that returns its full output sequence**"
      ]
    },
    {
      "cell_type": "code",
      "execution_count": 19,
      "metadata": {
        "id": "0LuapfhuAeZf",
        "colab": {
          "base_uri": "https://localhost:8080/"
        },
        "outputId": "46ceaf37-6908-408f-d6c4-25ee55202b75"
      },
      "outputs": [
        {
          "output_type": "stream",
          "name": "stdout",
          "text": [
            "(None, 120, 16)\n"
          ]
        }
      ],
      "source": [
        "num_features = 14\n",
        "steps = 120\n",
        "inputs = keras.Input(shape=(steps, num_features))\n",
        "outputs = layers.SimpleRNN(16, return_sequences=True)(inputs)\n",
        "print(outputs.shape)"
      ]
    },
    {
      "cell_type": "markdown",
      "metadata": {
        "id": "xtahYeplAeZg"
      },
      "source": [
        "**Stacking RNN layers**"
      ]
    },
    {
      "cell_type": "code",
      "execution_count": 20,
      "metadata": {
        "id": "A92VnQq9AeZg"
      },
      "outputs": [],
      "source": [
        "inputs = keras.Input(shape=(steps, num_features))\n",
        "x = layers.SimpleRNN(16, return_sequences=True)(inputs)\n",
        "x = layers.SimpleRNN(16, return_sequences=True)(x)\n",
        "outputs = layers.SimpleRNN(16)(x)"
      ]
    },
    {
      "cell_type": "markdown",
      "metadata": {
        "id": "vTovaWseAeZg"
      },
      "source": [
        "## Advanced use of recurrent neural networks"
      ]
    },
    {
      "cell_type": "markdown",
      "metadata": {
        "id": "SQHowe4XAeZg"
      },
      "source": [
        "### Using recurrent dropout to fight overfitting"
      ]
    },
    {
      "cell_type": "markdown",
      "metadata": {
        "id": "AVVFg7bOAeZg"
      },
      "source": [
        "**Training and evaluating a dropout-regularized LSTM**"
      ]
    },
    {
      "cell_type": "code",
      "execution_count": null,
      "metadata": {
        "id": "mZxAiercAeZg",
        "colab": {
          "base_uri": "https://localhost:8080/"
        },
        "outputId": "71c09bb6-3bf9-4a73-8d20-023d2f8d0871"
      },
      "outputs": [
        {
          "output_type": "stream",
          "name": "stderr",
          "text": [
            "WARNING:tensorflow:Layer lstm_1 will not use cuDNN kernels since it doesn't meet the criteria. It will use a generic GPU kernel as fallback when running on GPU.\n"
          ]
        },
        {
          "output_type": "stream",
          "name": "stdout",
          "text": [
            "Epoch 1/50\n",
            "819/819 [==============================] - 401s 486ms/step - loss: 29.9261 - mae: 4.0199 - val_loss: 9.6182 - val_mae: 2.4185\n",
            "Epoch 2/50\n",
            "819/819 [==============================] - 394s 481ms/step - loss: 14.8418 - mae: 2.9917 - val_loss: 9.3768 - val_mae: 2.3843\n",
            "Epoch 3/50\n",
            "819/819 [==============================] - 390s 476ms/step - loss: 14.0102 - mae: 2.9039 - val_loss: 9.0555 - val_mae: 2.3316\n",
            "Epoch 4/50\n",
            "819/819 [==============================] - 392s 477ms/step - loss: 13.4010 - mae: 2.8376 - val_loss: 9.1721 - val_mae: 2.3435\n",
            "Epoch 5/50\n",
            "819/819 [==============================] - 391s 477ms/step - loss: 12.8674 - mae: 2.7833 - val_loss: 9.5791 - val_mae: 2.3984\n",
            "Epoch 6/50\n",
            "819/819 [==============================] - 396s 483ms/step - loss: 12.3715 - mae: 2.7282 - val_loss: 9.3422 - val_mae: 2.3702\n",
            "Epoch 7/50\n",
            "819/819 [==============================] - 395s 481ms/step - loss: 12.0039 - mae: 2.6887 - val_loss: 9.2884 - val_mae: 2.3713\n",
            "Epoch 8/50\n",
            "819/819 [==============================] - 414s 505ms/step - loss: 11.6674 - mae: 2.6465 - val_loss: 9.5978 - val_mae: 2.4128\n",
            "Epoch 9/50\n",
            "819/819 [==============================] - 395s 481ms/step - loss: 11.3759 - mae: 2.6139 - val_loss: 9.5089 - val_mae: 2.4046\n",
            "Epoch 10/50\n",
            "819/819 [==============================] - 400s 488ms/step - loss: 11.1683 - mae: 2.5869 - val_loss: 9.2977 - val_mae: 2.3817\n",
            "Epoch 11/50\n",
            "819/819 [==============================] - 415s 506ms/step - loss: 10.9392 - mae: 2.5615 - val_loss: 9.8903 - val_mae: 2.4544\n",
            "Epoch 12/50\n",
            "819/819 [==============================] - 396s 483ms/step - loss: 10.7589 - mae: 2.5404 - val_loss: 9.7748 - val_mae: 2.4352\n",
            "Epoch 13/50\n",
            "819/819 [==============================] - 389s 475ms/step - loss: 10.5924 - mae: 2.5171 - val_loss: 9.7842 - val_mae: 2.4295\n",
            "Epoch 14/50\n",
            "819/819 [==============================] - 388s 474ms/step - loss: 10.4016 - mae: 2.4958 - val_loss: 10.0190 - val_mae: 2.4653\n",
            "Epoch 15/50\n",
            "819/819 [==============================] - 407s 496ms/step - loss: 10.3230 - mae: 2.4847 - val_loss: 10.3254 - val_mae: 2.5020\n",
            "Epoch 16/50\n",
            "819/819 [==============================] - 409s 499ms/step - loss: 10.2540 - mae: 2.4761 - val_loss: 10.2697 - val_mae: 2.4933\n",
            "Epoch 17/50\n",
            "819/819 [==============================] - 413s 505ms/step - loss: 10.0934 - mae: 2.4588 - val_loss: 10.2802 - val_mae: 2.4870\n",
            "Epoch 18/50\n",
            "819/819 [==============================] - 393s 479ms/step - loss: 9.9818 - mae: 2.4450 - val_loss: 10.1505 - val_mae: 2.4723\n",
            "Epoch 19/50\n",
            "819/819 [==============================] - 404s 493ms/step - loss: 9.9592 - mae: 2.4388 - val_loss: 10.7609 - val_mae: 2.5467\n",
            "Epoch 20/50\n",
            "819/819 [==============================] - 392s 479ms/step - loss: 9.7727 - mae: 2.4182 - val_loss: 10.1236 - val_mae: 2.4752\n",
            "Epoch 21/50\n",
            "272/819 [========>.....................] - ETA: 4:06 - loss: 9.7286 - mae: 2.4171"
          ]
        }
      ],
      "source": [
        "inputs = keras.Input(shape=(sequence_length, raw_data.shape[-1]))\n",
        "x = layers.LSTM(32, recurrent_dropout=0.25)(inputs)\n",
        "x = layers.Dropout(0.5)(x)\n",
        "outputs = layers.Dense(1)(x)\n",
        "model = keras.Model(inputs, outputs)\n",
        "\n",
        "callbacks = [\n",
        "    keras.callbacks.ModelCheckpoint(\"jena_lstm_dropout.keras\",\n",
        "                                    save_best_only=True)\n",
        "]\n",
        "model.compile(optimizer=\"rmsprop\", loss=\"mse\", metrics=[\"mae\"])\n",
        "history = model.fit(train_dataset,\n",
        "                    epochs=50,\n",
        "                    validation_data=val_dataset,\n",
        "                    callbacks=callbacks)"
      ]
    },
    {
      "cell_type": "code",
      "execution_count": null,
      "metadata": {
        "id": "gtWsofprAeZg"
      },
      "outputs": [],
      "source": [
        "inputs = keras.Input(shape=(sequence_length, num_features))\n",
        "x = layers.LSTM(32, recurrent_dropout=0.2, unroll=True)(inputs)"
      ]
    },
    {
      "cell_type": "markdown",
      "metadata": {
        "id": "1iXa6lGJAeZg"
      },
      "source": [
        "### Stacking recurrent layers"
      ]
    },
    {
      "cell_type": "markdown",
      "metadata": {
        "id": "gx8SpZShAeZg"
      },
      "source": [
        "**Training and evaluating a dropout-regularized, stacked GRU model**"
      ]
    },
    {
      "cell_type": "code",
      "execution_count": null,
      "metadata": {
        "id": "ghuX2qi-AeZg"
      },
      "outputs": [],
      "source": [
        "inputs = keras.Input(shape=(sequence_length, raw_data.shape[-1]))\n",
        "x = layers.GRU(32, recurrent_dropout=0.5, return_sequences=True)(inputs)\n",
        "x = layers.GRU(32, recurrent_dropout=0.5)(x)\n",
        "x = layers.Dropout(0.5)(x)\n",
        "outputs = layers.Dense(1)(x)\n",
        "model = keras.Model(inputs, outputs)\n",
        "\n",
        "callbacks = [\n",
        "    keras.callbacks.ModelCheckpoint(\"jena_stacked_gru_dropout.keras\",\n",
        "                                    save_best_only=True)\n",
        "]\n",
        "model.compile(optimizer=\"rmsprop\", loss=\"mse\", metrics=[\"mae\"])\n",
        "history = model.fit(train_dataset,\n",
        "                    epochs=50,\n",
        "                    validation_data=val_dataset,\n",
        "                    callbacks=callbacks)\n",
        "model = keras.models.load_model(\"jena_stacked_gru_dropout.keras\")\n",
        "print(f\"Test MAE: {model.evaluate(test_dataset)[1]:.2f}\")"
      ]
    },
    {
      "cell_type": "markdown",
      "metadata": {
        "id": "Fp_d2xNxAeZg"
      },
      "source": [
        "### Using bidirectional RNNs"
      ]
    },
    {
      "cell_type": "markdown",
      "metadata": {
        "id": "lljMPH9dAeZh"
      },
      "source": [
        "**Training and evaluating a bidirectional LSTM**"
      ]
    },
    {
      "cell_type": "code",
      "execution_count": null,
      "metadata": {
        "id": "uNRNrlxtAeZh"
      },
      "outputs": [],
      "source": [
        "inputs = keras.Input(shape=(sequence_length, raw_data.shape[-1]))\n",
        "x = layers.Bidirectional(layers.LSTM(16))(inputs)\n",
        "outputs = layers.Dense(1)(x)\n",
        "model = keras.Model(inputs, outputs)\n",
        "\n",
        "model.compile(optimizer=\"rmsprop\", loss=\"mse\", metrics=[\"mae\"])\n",
        "history = model.fit(train_dataset,\n",
        "                    epochs=10,\n",
        "                    validation_data=val_dataset)"
      ]
    },
    {
      "cell_type": "markdown",
      "metadata": {
        "id": "4LaDoRUPAeZh"
      },
      "source": [
        "### Going even further"
      ]
    },
    {
      "cell_type": "markdown",
      "metadata": {
        "id": "hRX8HslWAeZh"
      },
      "source": [
        "## Summary"
      ]
    }
  ],
  "metadata": {
    "colab": {
      "provenance": [],
      "toc_visible": true,
      "gpuType": "T4",
      "include_colab_link": true
    },
    "kernelspec": {
      "display_name": "Python 3",
      "language": "python",
      "name": "python3"
    },
    "language_info": {
      "codemirror_mode": {
        "name": "ipython",
        "version": 3
      },
      "file_extension": ".py",
      "mimetype": "text/x-python",
      "name": "python",
      "nbconvert_exporter": "python",
      "pygments_lexer": "ipython3",
      "version": "3.7.0"
    },
    "accelerator": "GPU",
    "gpuClass": "standard"
  },
  "nbformat": 4,
  "nbformat_minor": 0
}